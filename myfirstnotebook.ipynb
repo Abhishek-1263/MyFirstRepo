{
 "cells": [
  {
   "cell_type": "code",
   "execution_count": 1,
   "id": "1d229e4d",
   "metadata": {},
   "outputs": [
    {
     "name": "stdout",
     "output_type": "stream",
     "text": [
      "hello\n"
     ]
    }
   ],
   "source": [
    "print(\"hello\")"
   ]
  },
  {
   "cell_type": "code",
   "execution_count": 3,
   "id": "49943b71",
   "metadata": {},
   "outputs": [
    {
     "name": "stdout",
     "output_type": "stream",
     "text": [
      "my name is abhishek\n"
     ]
    }
   ],
   "source": [
    "print(\"my name is abhishek\")"
   ]
  },
  {
   "cell_type": "code",
   "execution_count": 4,
   "id": "0df6b05f",
   "metadata": {},
   "outputs": [
    {
     "name": "stdout",
     "output_type": "stream",
     "text": [
      "15\n"
     ]
    }
   ],
   "source": [
    "x=10\n",
    "y=5\n",
    "print(x+y)"
   ]
  },
  {
   "cell_type": "code",
   "execution_count": 2,
   "id": "8d347b50",
   "metadata": {},
   "outputs": [
    {
     "ename": "SyntaxError",
     "evalue": "invalid syntax (4294926704.py, line 1)",
     "output_type": "error",
     "traceback": [
      "\u001b[1;36m  Input \u001b[1;32mIn [2]\u001b[1;36m\u001b[0m\n\u001b[1;33m    x=10 y=5  print(x+y)\u001b[0m\n\u001b[1;37m         ^\u001b[0m\n\u001b[1;31mSyntaxError\u001b[0m\u001b[1;31m:\u001b[0m invalid syntax\n"
     ]
    }
   ],
   "source": [
    "x=10 y=5  print(x+y)"
   ]
  },
  {
   "cell_type": "code",
   "execution_count": 5,
   "id": "b2073a72",
   "metadata": {},
   "outputs": [
    {
     "name": "stdout",
     "output_type": "stream",
     "text": [
      "50\n"
     ]
    }
   ],
   "source": [
    "z=x*y\n",
    "print(z)"
   ]
  },
  {
   "cell_type": "code",
   "execution_count": 6,
   "id": "0c5e3de4",
   "metadata": {},
   "outputs": [
    {
     "name": "stdout",
     "output_type": "stream",
     "text": [
      "sum of x & y = 15\n"
     ]
    }
   ],
   "source": [
    "print(\"sum of x & y =\", x+y)"
   ]
  },
  {
   "cell_type": "code",
   "execution_count": 7,
   "id": "ccc09f7f",
   "metadata": {},
   "outputs": [
    {
     "name": "stdout",
     "output_type": "stream",
     "text": [
      "the value of x & y are 10 & 5 respectively.\n"
     ]
    }
   ],
   "source": [
    "print(\"the value of x & y are\", x,\"&\",y, \"respectively.\")"
   ]
  },
  {
   "cell_type": "code",
   "execution_count": 8,
   "id": "582822bb",
   "metadata": {},
   "outputs": [
    {
     "name": "stdout",
     "output_type": "stream",
     "text": [
      "multiplication of x & y = 50\n"
     ]
    }
   ],
   "source": [
    "print(\"multiplication of x & y =\", x*y)"
   ]
  },
  {
   "cell_type": "code",
   "execution_count": 9,
   "id": "9d78def2",
   "metadata": {},
   "outputs": [
    {
     "name": "stdout",
     "output_type": "stream",
     "text": [
      "the values of x & y are  10 & 5 respectively.\n"
     ]
    }
   ],
   "source": [
    "print(\"the values of x & y are \", x,\"&\",y, \"respectively.\")"
   ]
  },
  {
   "cell_type": "code",
   "execution_count": 1,
   "id": "a3b42e45",
   "metadata": {},
   "outputs": [
    {
     "name": "stdout",
     "output_type": "stream",
     "text": [
      "30\n"
     ]
    }
   ],
   "source": [
    "x=10\n",
    "y=10\n",
    "z=10\n",
    "print(x+y+z)"
   ]
  },
  {
   "cell_type": "code",
   "execution_count": 2,
   "id": "0403f331",
   "metadata": {},
   "outputs": [
    {
     "name": "stdout",
     "output_type": "stream",
     "text": [
      "the sum of x+y+z= 30\n"
     ]
    }
   ],
   "source": [
    "print(\"the sum of x+y+z=\", x+y+z)"
   ]
  },
  {
   "cell_type": "code",
   "execution_count": 3,
   "id": "7f7834d5",
   "metadata": {},
   "outputs": [
    {
     "name": "stdout",
     "output_type": "stream",
     "text": [
      "1.0\n"
     ]
    }
   ],
   "source": [
    "print(x/z)"
   ]
  },
  {
   "cell_type": "code",
   "execution_count": 5,
   "id": "2a9e1293",
   "metadata": {},
   "outputs": [
    {
     "name": "stdout",
     "output_type": "stream",
     "text": [
      "the whole square of x+y is 400\n"
     ]
    }
   ],
   "source": [
    "print(\"the whole square of x+y is\", x*x+y*y+2*x*y)"
   ]
  },
  {
   "cell_type": "code",
   "execution_count": 7,
   "id": "50795743",
   "metadata": {},
   "outputs": [
    {
     "name": "stdout",
     "output_type": "stream",
     "text": [
      "the square of x & y is 100 100\n"
     ]
    }
   ],
   "source": [
    "print(\"the square of x & y is\", x*x,y*y)"
   ]
  },
  {
   "cell_type": "code",
   "execution_count": 8,
   "id": "6e8ce528",
   "metadata": {},
   "outputs": [
    {
     "name": "stdout",
     "output_type": "stream",
     "text": [
      "the product of x,y and z is 1000\n"
     ]
    }
   ],
   "source": [
    "print(\"the product of x,y and z is\", x*y*z)"
   ]
  },
  {
   "cell_type": "code",
   "execution_count": 9,
   "id": "d41c6da6",
   "metadata": {},
   "outputs": [
    {
     "name": "stdout",
     "output_type": "stream",
     "text": [
      "hello mother father\n"
     ]
    }
   ],
   "source": [
    "print(\"hello mother father\")"
   ]
  },
  {
   "cell_type": "code",
   "execution_count": 11,
   "id": "59527bc8",
   "metadata": {},
   "outputs": [
    {
     "ename": "SyntaxError",
     "evalue": "positional argument follows keyword argument (135391905.py, line 1)",
     "output_type": "error",
     "traceback": [
      "\u001b[1;36m  Input \u001b[1;32mIn [11]\u001b[1;36m\u001b[0m\n\u001b[1;33m    print(\"if x is equal to y\", x=y, \"hey\")\u001b[0m\n\u001b[1;37m                                          ^\u001b[0m\n\u001b[1;31mSyntaxError\u001b[0m\u001b[1;31m:\u001b[0m positional argument follows keyword argument\n"
     ]
    }
   ],
   "source": [
    "print(\"if x is equal to y\", x=y, \"hey\")"
   ]
  },
  {
   "cell_type": "code",
   "execution_count": null,
   "id": "2cc32f78",
   "metadata": {},
   "outputs": [],
   "source": []
  }
 ],
 "metadata": {
  "kernelspec": {
   "display_name": "Python 3 (ipykernel)",
   "language": "python",
   "name": "python3"
  },
  "language_info": {
   "codemirror_mode": {
    "name": "ipython",
    "version": 3
   },
   "file_extension": ".py",
   "mimetype": "text/x-python",
   "name": "python",
   "nbconvert_exporter": "python",
   "pygments_lexer": "ipython3",
   "version": "3.9.12"
  }
 },
 "nbformat": 4,
 "nbformat_minor": 5
}
